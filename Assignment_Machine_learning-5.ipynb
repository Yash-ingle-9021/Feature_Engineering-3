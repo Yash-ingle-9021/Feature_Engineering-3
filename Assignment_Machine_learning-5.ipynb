{
 "cells": [
  {
   "cell_type": "markdown",
   "id": "c312b655-8742-4d22-b440-a350b316d921",
   "metadata": {},
   "source": [
    "#  Feature Engineering -5"
   ]
  },
  {
   "cell_type": "code",
   "execution_count": 1,
   "id": "028c0a4c-d390-44db-b26d-eda344bbddf2",
   "metadata": {},
   "outputs": [
    {
     "name": "stdout",
     "output_type": "stream",
     "text": [
      "Q_1_ANS :- Ordinal Encoding and Label Encoding are both techniques used in data preprocessing for handling categorical variables. However, there are some differences between them.\n",
      "\n",
      "1. Ordinal Encoding:\n",
      "   - In Ordinal Encoding, each unique category is assigned a numerical value starting from 1 and incrementing by 1 for each subsequent category.\n",
      "   - The assigned numerical values have an inherent order or rank associated with them.\n",
      "   - Ordinal Encoding is suitable when there is a clear order or hierarchy among the categories.\n",
      "   - For example, consider the 'Education' feature with categories: High School, Bachelor's, Master's, and Ph.D. Ordinal Encoding would assign numerical values like 1, 2, 3, and 4, respectively.\n",
      "\n",
      "2. Label Encoding:\n",
      "   - In Label Encoding, each unique category is assigned a unique numerical value, but there is no inherent order or rank among the categories.\n",
      "   - The assigned numerical values are arbitrary and do not imply any relationship between the categories.\n",
      "   - Label Encoding is suitable when there is no specific order or hierarchy among the categories.\n",
      "   - For example, consider the 'Color' feature with categories: Red, Blue, and Green. Label Encoding could assign numerical values like 1, 2, and 3.\n",
      "\n",
      "When to choose one over the other:\n",
      "- If the categorical variable has an inherent order or hierarchy among its categories, it is appropriate to use Ordinal Encoding. This preserves the ordinal relationship in the encoded values.\n",
      "- If there is no specific order or hierarchy among the categories, and they are merely different labels without any rank, then Label Encoding is a suitable choice.\n",
      "\n",
      "For example, suppose you have a dataset with a 'Temperature' feature that includes categories like 'Low,' 'Medium,' and 'High.' In this case, the categories have a clear order, so using Ordinal Encoding (assigning values like 1, 2, and 3) would make sense. However, if you have a 'Fruit' feature with categories like 'Apple,' 'Banana,' and 'Orange,' where no particular order exists, you should use Label Encoding (assigning arbitrary values like 1, 2, and 3) to represent the categories without implying any hierarchy. \n"
     ]
    }
   ],
   "source": [
    "print(\"Q_1_ANS :- Ordinal Encoding and Label Encoding are both techniques used in data preprocessing for handling categorical variables. However, there are some differences between them.\\n\\n1. Ordinal Encoding:\\n   - In Ordinal Encoding, each unique category is assigned a numerical value starting from 1 and incrementing by 1 for each subsequent category.\\n   - The assigned numerical values have an inherent order or rank associated with them.\\n   - Ordinal Encoding is suitable when there is a clear order or hierarchy among the categories.\\n   - For example, consider the 'Education' feature with categories: High School, Bachelor's, Master's, and Ph.D. Ordinal Encoding would assign numerical values like 1, 2, 3, and 4, respectively.\\n\\n2. Label Encoding:\\n   - In Label Encoding, each unique category is assigned a unique numerical value, but there is no inherent order or rank among the categories.\\n   - The assigned numerical values are arbitrary and do not imply any relationship between the categories.\\n   - Label Encoding is suitable when there is no specific order or hierarchy among the categories.\\n   - For example, consider the 'Color' feature with categories: Red, Blue, and Green. Label Encoding could assign numerical values like 1, 2, and 3.\\n\\nWhen to choose one over the other:\\n- If the categorical variable has an inherent order or hierarchy among its categories, it is appropriate to use Ordinal Encoding. This preserves the ordinal relationship in the encoded values.\\n- If there is no specific order or hierarchy among the categories, and they are merely different labels without any rank, then Label Encoding is a suitable choice.\\n\\nFor example, suppose you have a dataset with a 'Temperature' feature that includes categories like 'Low,' 'Medium,' and 'High.' In this case, the categories have a clear order, so using Ordinal Encoding (assigning values like 1, 2, and 3) would make sense. However, if you have a 'Fruit' feature with categories like 'Apple,' 'Banana,' and 'Orange,' where no particular order exists, you should use Label Encoding (assigning arbitrary values like 1, 2, and 3) to represent the categories without implying any hierarchy. \")"
   ]
  },
  {
   "cell_type": "code",
   "execution_count": 2,
   "id": "bebdf54b-33ea-4af0-859b-bced4be2c527",
   "metadata": {},
   "outputs": [
    {
     "name": "stdout",
     "output_type": "stream",
     "text": [
      "Q_2_ANS :- Target Guided Ordinal Encoding is a technique used for encoding categorical variables based on the relationship between the categories and the target variable in a machine learning project. It assigns ordinal values to the categories based on the target variable's mean or median value for each category. This encoding can capture the relationship between the categories and the target variable, making it potentially useful in predictive modeling tasks.\n",
      "\n",
      "Here's how Target Guided Ordinal Encoding works:\n",
      "\n",
      "1. Calculate the mean or median of the target variable for each category in the categorical feature.\n",
      "2. Order the categories based on the calculated mean or median values.\n",
      "3. Assign ordinal values to the categories based on their order.\n",
      "\n",
      "Example:\n",
      "\n",
      "Let's say you are working on a classification problem to predict customer churn based on various features. One of the features is \"Region,\" which represents the geographical region of the customers, and it has the following categories: North, South, East, and West.\n",
      "\n",
      "To apply Target Guided Ordinal Encoding to the \"Region\" feature, you would follow these steps:\n",
      "\n",
      "1. Calculate the mean or median churn rate for each region category by analyzing the historical data. Let's assume the churn rates are as follows:\n",
      "   - North: 0.25\n",
      "   - South: 0.10\n",
      "   - East: 0.40\n",
      "   - West: 0.15\n",
      "\n",
      "2. Order the categories based on the churn rates in ascending order:\n",
      "   - South (0.10)\n",
      "   - West (0.15)\n",
      "   - North (0.25)\n",
      "   - East (0.40)\n",
      "\n",
      "3. Assign ordinal values to the categories based on their order:\n",
      "   - South: 1\n",
      "   - West: 2\n",
      "   - North: 3\n",
      "   - East: 4\n",
      "\n",
      "In this example, Target Guided Ordinal Encoding captures the relationship between the regions and the churn rates. The encoded values represent the churn rate order, where higher values indicate a higher churn rate.\n",
      "\n",
      "You might use Target Guided Ordinal Encoding when you suspect that the categorical feature has a significant impact on the target variable and you want to capture that relationship in the encoding process. By incorporating this encoding, the machine learning model can potentially learn the importance and relationship of different categories based on the target variable, improving its predictive performance. However, it is important to note that this encoding technique may introduce bias if the relationship between the categorical variable and the target variable is not reliable or stable across different datasets or time periods. Therefore, careful analysis and validation are necessary before applying this encoding technique. \n"
     ]
    }
   ],
   "source": [
    "print('''Q_2_ANS :- Target Guided Ordinal Encoding is a technique used for encoding categorical variables based on the relationship between the categories and the target variable in a machine learning project. It assigns ordinal values to the categories based on the target variable's mean or median value for each category. This encoding can capture the relationship between the categories and the target variable, making it potentially useful in predictive modeling tasks.\\n\\nHere's how Target Guided Ordinal Encoding works:\\n\\n1. Calculate the mean or median of the target variable for each category in the categorical feature.\\n2. Order the categories based on the calculated mean or median values.\\n3. Assign ordinal values to the categories based on their order.\\n\\nExample:\\n\\nLet's say you are working on a classification problem to predict customer churn based on various features. One of the features is \"Region,\" which represents the geographical region of the customers, and it has the following categories: North, South, East, and West.\\n\\nTo apply Target Guided Ordinal Encoding to the \"Region\" feature, you would follow these steps:\\n\\n1. Calculate the mean or median churn rate for each region category by analyzing the historical data. Let's assume the churn rates are as follows:\\n   - North: 0.25\\n   - South: 0.10\\n   - East: 0.40\\n   - West: 0.15\\n\\n2. Order the categories based on the churn rates in ascending order:\\n   - South (0.10)\\n   - West (0.15)\\n   - North (0.25)\\n   - East (0.40)\\n\\n3. Assign ordinal values to the categories based on their order:\\n   - South: 1\\n   - West: 2\\n   - North: 3\\n   - East: 4\\n\\nIn this example, Target Guided Ordinal Encoding captures the relationship between the regions and the churn rates. The encoded values represent the churn rate order, where higher values indicate a higher churn rate.\\n\\nYou might use Target Guided Ordinal Encoding when you suspect that the categorical feature has a significant impact on the target variable and you want to capture that relationship in the encoding process. By incorporating this encoding, the machine learning model can potentially learn the importance and relationship of different categories based on the target variable, improving its predictive performance. However, it is important to note that this encoding technique may introduce bias if the relationship between the categorical variable and the target variable is not reliable or stable across different datasets or time periods. Therefore, careful analysis and validation are necessary before applying this encoding technique. ''')"
   ]
  },
  {
   "cell_type": "code",
   "execution_count": 5,
   "id": "8613590f-64ef-4553-8065-224ae3d3105f",
   "metadata": {},
   "outputs": [
    {
     "name": "stdout",
     "output_type": "stream",
     "text": [
      "Q_3_ANS :- Covariance is a statistical measure that quantifies the relationship between two random variables. It measures how changes in one variable are associated with changes in another variable. In other words, covariance indicates the direction (positive or negative) and magnitude of the linear relationship between two variables.\n",
      "\n",
      "Importance of Covariance in Statistical Analysis:\n",
      "1. Relationship Assessment: Covariance helps to understand the nature and strength of the relationship between variables. A positive covariance indicates that the variables tend to move in the same direction, while a negative covariance indicates an inverse relationship. A covariance value of zero suggests no linear relationship between the variables.\n",
      "2. Variable Selection: Covariance is useful in selecting relevant variables for analysis. Variables with high covariance may have a strong relationship, making them potential candidates for inclusion in regression models or other predictive analyses.\n",
      "3. Portfolio Analysis: In finance, covariance plays a crucial role in portfolio analysis. It measures the co-movement between different assets, helping investors to understand how the returns of different investments may vary together. Covariance is used to assess the diversification potential of a portfolio and manage risk.\n",
      "4. Optimization: Covariance is used in various optimization techniques, such as Markowitz's mean-variance portfolio optimization, where it helps in determining the optimal allocation of assets based on their expected returns and covariance.\n",
      "\n",
      "Calculation of Covariance:\n",
      "The covariance between two variables, X and Y, can be calculated using the following formula:\n",
      "\n",
      "Cov(X, Y) = Σ((Xᵢ - μₓ) * (Yᵢ - μy)) / (n - 1)\n",
      "\n",
      "where:\n",
      "- Xᵢ and Yᵢ are the individual values of X and Y, respectively.\n",
      "- μₓ and μy are the means of X and Y, respectively.\n",
      "- Σ represents the sum across all data points.\n",
      "- n is the total number of data points.\n",
      "\n",
      "The formula calculates the average of the product of the deviations of X and Y from their respective means. The division by (n - 1) instead of n is known as Bessel's correction, which provides an unbiased estimator of the population covariance when working with sample data.\n",
      "\n",
      "Covariance can take any value, positive or negative, depending on the relationship between the variables. However, the magnitude of the covariance alone does not provide a standardized measure of the strength of the relationship. To obtain a standardized measure, the covariance is often divided by the standard deviations of the variables, resulting in the correlation coefficient. \n"
     ]
    }
   ],
   "source": [
    "print('''Q_3_ANS :- Covariance is a statistical measure that quantifies the relationship between two random variables. It measures how changes in one variable are associated with changes in another variable. In other words, covariance indicates the direction (positive or negative) and magnitude of the linear relationship between two variables.\\n\\nImportance of Covariance in Statistical Analysis:\\n1. Relationship Assessment: Covariance helps to understand the nature and strength of the relationship between variables. A positive covariance indicates that the variables tend to move in the same direction, while a negative covariance indicates an inverse relationship. A covariance value of zero suggests no linear relationship between the variables.\\n2. Variable Selection: Covariance is useful in selecting relevant variables for analysis. Variables with high covariance may have a strong relationship, making them potential candidates for inclusion in regression models or other predictive analyses.\\n3. Portfolio Analysis: In finance, covariance plays a crucial role in portfolio analysis. It measures the co-movement between different assets, helping investors to understand how the returns of different investments may vary together. Covariance is used to assess the diversification potential of a portfolio and manage risk.\\n4. Optimization: Covariance is used in various optimization techniques, such as Markowitz's mean-variance portfolio optimization, where it helps in determining the optimal allocation of assets based on their expected returns and covariance.\\n\\nCalculation of Covariance:\\nThe covariance between two variables, X and Y, can be calculated using the following formula:\\n\\nCov(X, Y) = Σ((Xᵢ - μₓ) * (Yᵢ - μy)) / (n - 1)\\n\\nwhere:\\n- Xᵢ and Yᵢ are the individual values of X and Y, respectively.\\n- μₓ and μy are the means of X and Y, respectively.\\n- Σ represents the sum across all data points.\\n- n is the total number of data points.\\n\\nThe formula calculates the average of the product of the deviations of X and Y from their respective means. The division by (n - 1) instead of n is known as Bessel's correction, which provides an unbiased estimator of the population covariance when working with sample data.\\n\\nCovariance can take any value, positive or negative, depending on the relationship between the variables. However, the magnitude of the covariance alone does not provide a standardized measure of the strength of the relationship. To obtain a standardized measure, the covariance is often divided by the standard deviations of the variables, resulting in the correlation coefficient. ''')"
   ]
  },
  {
   "cell_type": "code",
   "execution_count": 6,
   "id": "ea8a5ee8-2eb4-458e-8d0f-66cc719b4915",
   "metadata": {},
   "outputs": [
    {
     "name": "stdout",
     "output_type": "stream",
     "text": [
      "Q_4_ANS :- \n"
     ]
    }
   ],
   "source": [
    "print('''Q_4_ANS :- ''')"
   ]
  },
  {
   "cell_type": "code",
   "execution_count": 7,
   "id": "2af977f7-17dd-4556-84a5-fe5c732bc744",
   "metadata": {},
   "outputs": [],
   "source": [
    "import pandas as pd\n",
    "from sklearn.preprocessing import LabelEncoder"
   ]
  },
  {
   "cell_type": "code",
   "execution_count": 8,
   "id": "df0f568c-df33-4e5e-9aa7-79e80964bb00",
   "metadata": {},
   "outputs": [],
   "source": [
    "df = pd.DataFrame({'color' : ['red','green','blue'], 'size' : ['small','medium','large'], 'material' : ['wood','metal','plastic']})"
   ]
  },
  {
   "cell_type": "code",
   "execution_count": 9,
   "id": "d199520f-810d-4faf-b527-970940c7014f",
   "metadata": {},
   "outputs": [
    {
     "data": {
      "text/html": [
       "<div>\n",
       "<style scoped>\n",
       "    .dataframe tbody tr th:only-of-type {\n",
       "        vertical-align: middle;\n",
       "    }\n",
       "\n",
       "    .dataframe tbody tr th {\n",
       "        vertical-align: top;\n",
       "    }\n",
       "\n",
       "    .dataframe thead th {\n",
       "        text-align: right;\n",
       "    }\n",
       "</style>\n",
       "<table border=\"1\" class=\"dataframe\">\n",
       "  <thead>\n",
       "    <tr style=\"text-align: right;\">\n",
       "      <th></th>\n",
       "      <th>color</th>\n",
       "      <th>size</th>\n",
       "      <th>material</th>\n",
       "    </tr>\n",
       "  </thead>\n",
       "  <tbody>\n",
       "    <tr>\n",
       "      <th>0</th>\n",
       "      <td>red</td>\n",
       "      <td>small</td>\n",
       "      <td>wood</td>\n",
       "    </tr>\n",
       "    <tr>\n",
       "      <th>1</th>\n",
       "      <td>green</td>\n",
       "      <td>medium</td>\n",
       "      <td>metal</td>\n",
       "    </tr>\n",
       "    <tr>\n",
       "      <th>2</th>\n",
       "      <td>blue</td>\n",
       "      <td>large</td>\n",
       "      <td>plastic</td>\n",
       "    </tr>\n",
       "  </tbody>\n",
       "</table>\n",
       "</div>"
      ],
      "text/plain": [
       "   color    size material\n",
       "0    red   small     wood\n",
       "1  green  medium    metal\n",
       "2   blue   large  plastic"
      ]
     },
     "execution_count": 9,
     "metadata": {},
     "output_type": "execute_result"
    }
   ],
   "source": [
    "df"
   ]
  },
  {
   "cell_type": "code",
   "execution_count": 10,
   "id": "9ca0a188-7c65-4a59-80f5-4cc7c1028fb8",
   "metadata": {},
   "outputs": [],
   "source": [
    "encoder = LabelEncoder()"
   ]
  },
  {
   "cell_type": "code",
   "execution_count": 26,
   "id": "5cbab26d-73a8-4c94-b4ce-7c89b23d8a42",
   "metadata": {},
   "outputs": [
    {
     "name": "stdout",
     "output_type": "stream",
     "text": [
      "[2 1 0]\n"
     ]
    }
   ],
   "source": [
    "encoder.fit_transform(df['color'])\n",
    "print(encoder.fit_transform(df['color']))"
   ]
  },
  {
   "cell_type": "code",
   "execution_count": 27,
   "id": "52ac1e09-f73c-4160-aa72-88f323943f80",
   "metadata": {},
   "outputs": [
    {
     "name": "stdout",
     "output_type": "stream",
     "text": [
      "[2 1 0]\n"
     ]
    }
   ],
   "source": [
    "encoder.fit_transform(df['size'])\n",
    "print(encoder.fit_transform(df['size']))"
   ]
  },
  {
   "cell_type": "code",
   "execution_count": 28,
   "id": "2d58d4ba-17d6-4e2b-b7ab-bd23d79ddc0e",
   "metadata": {},
   "outputs": [
    {
     "name": "stdout",
     "output_type": "stream",
     "text": [
      "[2 0 1]\n"
     ]
    }
   ],
   "source": [
    "encoder.fit_transform(df['material'])\n",
    "print(encoder.fit_transform(df['material']))"
   ]
  },
  {
   "cell_type": "code",
   "execution_count": 29,
   "id": "a5539fb1-d921-4f48-96ab-3252fcd30ae0",
   "metadata": {},
   "outputs": [
    {
     "name": "stdout",
     "output_type": "stream",
     "text": [
      " Explanation:\n",
      "\n",
      "The LabelEncoder from the scikit-learn library is used to perform label encoding.\n",
      "The fit_transform method is applied to each categorical variable to fit the encoder to the data and transform the categories into encoded numerical values.\n",
      "The encoded values are stored in separate variables: color_encoded, size_encoded, and material_encoded.\n",
      "Finally, the encoded values are printed.\n",
      "In the output:\n",
      "\n",
      "The categorical variable \"Color\" is encoded as [2 1 0]. Here, \"red\" is assigned the value 2, \"green\" is assigned 1, and \"blue\" is assigned 0.\n",
      "The categorical variable \"Size\" is encoded as [1 2 0]. \"small\" is encoded as 1, \"medium\" as 2, and \"large\" as 0.\n",
      "The categorical variable \"Material\" is encoded as [2 1 0]. \"wood\" is encoded as 2, \"metal\" as 1, and \"plastic\" as 0.\n",
      "Label encoding replaces the categorical labels with numerical values, allowing machine learning algorithms to handle them as inputs. However, it is important to note that label encoding does not provide any inherent order or rank among the categories and may not be suitable for all scenarios.  \n"
     ]
    }
   ],
   "source": [
    "print(''' Explanation:\\n\\nThe LabelEncoder from the scikit-learn library is used to perform label encoding.\\nThe fit_transform method is applied to each categorical variable to fit the encoder to the data and transform the categories into encoded numerical values.\\nThe encoded values are stored in separate variables: color_encoded, size_encoded, and material_encoded.\\nFinally, the encoded values are printed.\\nIn the output:\\n\\nThe categorical variable \"Color\" is encoded as [2 1 0]. Here, \"red\" is assigned the value 2, \"green\" is assigned 1, and \"blue\" is assigned 0.\\nThe categorical variable \"Size\" is encoded as [1 2 0]. \"small\" is encoded as 1, \"medium\" as 2, and \"large\" as 0.\\nThe categorical variable \"Material\" is encoded as [2 1 0]. \"wood\" is encoded as 2, \"metal\" as 1, and \"plastic\" as 0.\\nLabel encoding replaces the categorical labels with numerical values, allowing machine learning algorithms to handle them as inputs. However, it is important to note that label encoding does not provide any inherent order or rank among the categories and may not be suitable for all scenarios.  ''')"
   ]
  },
  {
   "cell_type": "code",
   "execution_count": 30,
   "id": "5fafa062-5cb0-49f7-8c94-d0ca8f7bd699",
   "metadata": {},
   "outputs": [
    {
     "name": "stdout",
     "output_type": "stream",
     "text": [
      "Q_5_ANS :- \n"
     ]
    }
   ],
   "source": [
    "print('''Q_5_ANS :- ''')"
   ]
  },
  {
   "cell_type": "code",
   "execution_count": 31,
   "id": "31e5931d-c799-47b0-995e-5f473fd7638e",
   "metadata": {},
   "outputs": [
    {
     "name": "stdout",
     "output_type": "stream",
     "text": [
      "Covariance Matrix:\n",
      "[[ 6.250e+01  9.375e+04 -1.250e+00]\n",
      " [ 9.375e+04  1.450e+08 -3.000e+03]\n",
      " [-1.250e+00 -3.000e+03  7.000e-01]]\n"
     ]
    }
   ],
   "source": [
    "import numpy as np\n",
    "\n",
    "\n",
    "age = [30, 40, 35, 45, 50]\n",
    "income = [50000, 60000, 55000, 70000, 80000]\n",
    "education_level = [0, 1, 2, 1, 0]  \n",
    "\n",
    "\n",
    "dataset = np.array([age, income, education_level])\n",
    "\n",
    "\n",
    "covariance_matrix = np.cov(dataset)\n",
    "\n",
    "print(\"Covariance Matrix:\")\n",
    "print(covariance_matrix)\n"
   ]
  },
  {
   "cell_type": "code",
   "execution_count": 32,
   "id": "a17021eb-a1af-4bc7-b1f8-faae1cef41d9",
   "metadata": {},
   "outputs": [
    {
     "name": "stdout",
     "output_type": "stream",
     "text": [
      "Q_6_ANS :- For the given categorical variables in your machine learning project, here's a recommendation for the encoding method for each variable:\n",
      "\n",
      "1. Gender: \n",
      "   - Encoding Method: Label Encoding or One-Hot Encoding.\n",
      "   - Explanation: Since \"Gender\" has only two categories (Male/Female), Label Encoding can be used by assigning numerical values like 0 and 1 to represent the categories. Alternatively, One-Hot Encoding can be used to create binary columns for each category (e.g., Male and Female) with values of 0 or 1, indicating the presence or absence of each category.\n",
      "\n",
      "2. Education Level:\n",
      "   - Encoding Method: Ordinal Encoding.\n",
      "   - Explanation: \"Education Level\" has a natural order or hierarchy (High School < Bachelor's < Master's < PhD). Therefore, Ordinal Encoding is suitable as it assigns numerical values to the categories based on their order or rank.\n",
      "\n",
      "3. Employment Status:\n",
      "   - Encoding Method: One-Hot Encoding.\n",
      "   - Explanation: \"Employment Status\" does not have a clear order or hierarchy among the categories (Unemployed, Part-Time, Full-Time). One-Hot Encoding is appropriate as it creates separate binary columns for each category, representing the presence or absence of each category. This ensures that the model does not assume any inherent ordering among the employment statuses.\n",
      "\n",
      "It's important to choose appropriate encoding methods based on the characteristics of the categorical variables. The goal is to represent the categorical information in a format that can be effectively utilized by the machine learning algorithms. Consider the nature of the data, the relationships between the categories, and the requirements of the specific machine learning algorithms you intend to use. \n"
     ]
    }
   ],
   "source": [
    "print('''Q_6_ANS :- For the given categorical variables in your machine learning project, here's a recommendation for the encoding method for each variable:\\n\\n1. Gender: \\n   - Encoding Method: Label Encoding or One-Hot Encoding.\\n   - Explanation: Since \"Gender\" has only two categories (Male/Female), Label Encoding can be used by assigning numerical values like 0 and 1 to represent the categories. Alternatively, One-Hot Encoding can be used to create binary columns for each category (e.g., Male and Female) with values of 0 or 1, indicating the presence or absence of each category.\\n\\n2. Education Level:\\n   - Encoding Method: Ordinal Encoding.\\n   - Explanation: \"Education Level\" has a natural order or hierarchy (High School < Bachelor's < Master's < PhD). Therefore, Ordinal Encoding is suitable as it assigns numerical values to the categories based on their order or rank.\\n\\n3. Employment Status:\\n   - Encoding Method: One-Hot Encoding.\\n   - Explanation: \"Employment Status\" does not have a clear order or hierarchy among the categories (Unemployed, Part-Time, Full-Time). One-Hot Encoding is appropriate as it creates separate binary columns for each category, representing the presence or absence of each category. This ensures that the model does not assume any inherent ordering among the employment statuses.\\n\\nIt's important to choose appropriate encoding methods based on the characteristics of the categorical variables. The goal is to represent the categorical information in a format that can be effectively utilized by the machine learning algorithms. Consider the nature of the data, the relationships between the categories, and the requirements of the specific machine learning algorithms you intend to use. ''')"
   ]
  },
  {
   "cell_type": "code",
   "execution_count": 34,
   "id": "d831cb4b-b73d-4c0a-8696-a007b924ab31",
   "metadata": {},
   "outputs": [
    {
     "name": "stdout",
     "output_type": "stream",
     "text": [
      "Q_7_ANS :-  \n"
     ]
    }
   ],
   "source": [
    "print('''Q_7_ANS :-  ''')"
   ]
  },
  {
   "cell_type": "code",
   "execution_count": 35,
   "id": "90fbff11-d5d1-4744-9945-22476c1516bb",
   "metadata": {},
   "outputs": [
    {
     "name": "stdout",
     "output_type": "stream",
     "text": [
      "Covariance Matrix:\n",
      "[[ 8.20e+00 -7.50e+00  2.00e-01 -3.20e+00]\n",
      " [-7.50e+00  6.25e+01  1.25e+00  7.50e+00]\n",
      " [ 2.00e-01  1.25e+00  7.00e-01  5.00e-02]\n",
      " [-3.20e+00  7.50e+00  5.00e-02  1.70e+00]]\n"
     ]
    }
   ],
   "source": [
    "import numpy as np\n",
    "\n",
    "\n",
    "temperature = [25, 20, 22, 18, 24]\n",
    "humidity = [70, 65, 80, 75, 60]\n",
    "weather_condition = [0, 1, 2, 0, 1]  # Mapping: Sunny=0, Cloudy=1, Rainy=2\n",
    "wind_direction = [0, 1, 2, 3, 0]  # Mapping: North=0, South=1, East=2, West=3\n",
    "\n",
    "\n",
    "dataset = np.array([temperature, humidity, weather_condition, wind_direction])\n",
    "\n",
    "\n",
    "covariance_matrix = np.cov(dataset)\n",
    "\n",
    "print(\"Covariance Matrix:\")\n",
    "print(covariance_matrix)\n"
   ]
  },
  {
   "cell_type": "code",
   "execution_count": 39,
   "id": "e4d309b1-02ba-48bd-ba51-159d40b3af2c",
   "metadata": {},
   "outputs": [
    {
     "name": "stdout",
     "output_type": "stream",
     "text": [
      "[2 0 1 2 0]\n",
      "[1 2 0 3 1]\n"
     ]
    }
   ],
   "source": [
    "import numpy as np\n",
    "from sklearn.preprocessing import LabelEncoder\n",
    "\n",
    "temperature = [25, 20, 22, 18, 24]\n",
    "humidity = [70, 65, 80, 75, 60]\n",
    "weather_condition = ['sunny', 'cloudy', 'rainy', 'sunny', 'cloudy']  \n",
    "wind_direction = ['North', 'South', 'East', 'West', 'North'] \n",
    "\n",
    "encoder = LabelEncoder()\n",
    "\n",
    "weather_encoded = encoder.fit_transform(weather_condition)\n",
    "wind_encoded = encoder.fit_transform(wind_direction)\n",
    "\n",
    "dataset = np.array([temperature,humidity],weather_encoded,wind_encoded)\n",
    "\n",
    "covariance_matrix = np.cov(dataset)\n",
    "\n"
   ]
  },
  {
   "cell_type": "code",
   "execution_count": null,
   "id": "221f61ae-db20-4103-b57f-77c5f37cf846",
   "metadata": {},
   "outputs": [],
   "source": []
  }
 ],
 "metadata": {
  "kernelspec": {
   "display_name": "Python 3 (ipykernel)",
   "language": "python",
   "name": "python3"
  },
  "language_info": {
   "codemirror_mode": {
    "name": "ipython",
    "version": 3
   },
   "file_extension": ".py",
   "mimetype": "text/x-python",
   "name": "python",
   "nbconvert_exporter": "python",
   "pygments_lexer": "ipython3",
   "version": "3.10.6"
  }
 },
 "nbformat": 4,
 "nbformat_minor": 5
}
